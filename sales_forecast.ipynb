{
 "cells": [
  {
   "cell_type": "code",
   "execution_count": null,
   "id": "6bc8be61-9c3c-43bc-bb84-67672ddedbd9",
   "metadata": {},
   "outputs": [],
   "source": [
    "import pandas as pd"
   ]
  },
  {
   "cell_type": "code",
   "execution_count": null,
   "id": "ba7a471a-19a2-400f-a226-2d8ff43ff14f",
   "metadata": {},
   "outputs": [],
   "source": [
    "sales = pd.read_csv('./data/electronic_sales.csv')"
   ]
  }
 ],
 "metadata": {
  "kernelspec": {
   "display_name": "Python 3 (ipykernel)",
   "language": "python",
   "name": "python3"
  },
  "language_info": {
   "codemirror_mode": {
    "name": "ipython",
    "version": 3
   },
   "file_extension": ".py",
   "mimetype": "text/x-python",
   "name": "python",
   "nbconvert_exporter": "python",
   "pygments_lexer": "ipython3",
   "version": "3.11.2"
  }
 },
 "nbformat": 4,
 "nbformat_minor": 5
}
